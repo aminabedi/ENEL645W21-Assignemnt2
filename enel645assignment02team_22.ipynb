{
 "cells": [
  {
   "cell_type": "markdown",
   "metadata": {
    "id": "a90a8sE_abWS"
   },
   "source": [
    "# Assignment 02 - CIFAR10 Image Classification\n",
    "\n",
    "In this assignment your team will design a fully connected neural network and a convolutional neural network (CNN) models for classifiying the CIFAR10 image dataset. The deliverables for the assignment are:\n",
    "\n",
    "1. This jupyter-notebook completed with your solution. I expect you to try different configurations (models, train/validtion split, etc.), but for your submission, leave just the best fully connected and the best CNN models.\n",
    "    - Name the notebook as enel645__assignment02__team_(team number).ipynb\n",
    "2. The weights of your best fully connected neural network model and your best CNN model \n",
    "    - Name the weights files as team__(team number)__FCN.h5 (fully connected model) and team__(team number)__CNN.h5 (CNN model)\n",
    "\n",
    "Submit the three files (notebook + models' weights) to your dropbox in the course D2L page.\n",
    "    \n",
    "We will be using the CIFAR10 dataset. The dataset alerady comes with a test set and you shouldn't change it. It is up to you to determine how to split your development set into training and validation sets. Use variable names consistent with the variables pre-filled in this document.\n",
    "\n",
    "\n",
    "You are free to add extra cells of text and code to this notebook.\n",
    "\n",
    "At the end of the notebook, please include a short description of what each team member did in the assignment. Also include the consensus score between 0 and 3 to each team member. This score will be used to adjust the final \n",
    "grade of each student. Students developing the project individually do not need this description and score.\n",
    "\n",
    "You are being assessed based on (more details in the rubric):\n",
    "\n",
    "1. Code execution - 20% \n",
    "2. Clarity of the code (e.g., easy to follow, has pertinent comments, etc.) - 20%\n",
    "3. Proper usage of the techniques seen in class - 30% \n",
    "4. Accuracy of the models  - 30%\n"
   ]
  },
  {
   "cell_type": "code",
   "execution_count": 1,
   "metadata": {
    "executionInfo": {
     "elapsed": 2757,
     "status": "ok",
     "timestamp": 1613102851140,
     "user": {
      "displayName": "Roberto Medeiros de Souza",
      "photoUrl": "https://lh3.googleusercontent.com/a-/AOh14GjNSx6sawbAkG0C_mz5xTKcM7sE5CS_OTIRmiD3ESc=s64",
      "userId": "15090920763882844564"
     },
     "user_tz": 420
    },
    "id": "PBR9mwL5aX6r"
   },
   "outputs": [],
   "source": [
    "import matplotlib.pylab as plt\n",
    "import numpy as np\n",
    "import tensorflow as tf"
   ]
  },
  {
   "cell_type": "markdown",
   "metadata": {},
   "source": [
    "## 1. Load your data"
   ]
  },
  {
   "cell_type": "code",
   "execution_count": 2,
   "metadata": {
    "colab": {
     "base_uri": "https://localhost:8080/"
    },
    "executionInfo": {
     "elapsed": 4909,
     "status": "ok",
     "timestamp": 1613102991498,
     "user": {
      "displayName": "Roberto Medeiros de Souza",
      "photoUrl": "https://lh3.googleusercontent.com/a-/AOh14GjNSx6sawbAkG0C_mz5xTKcM7sE5CS_OTIRmiD3ESc=s64",
      "userId": "15090920763882844564"
     },
     "user_tz": 420
    },
    "id": "W94KecGabAoB",
    "outputId": "017a6128-440b-434e-c53b-bd9adfbb4a19"
   },
   "outputs": [
    {
     "name": "stdout",
     "output_type": "stream",
     "text": [
      "Downloading data from https://www.cs.toronto.edu/~kriz/cifar-10-python.tar.gz\n",
      "170500096/170498071 [==============================] - 2s 0us/step\n",
      "(50000, 32, 32, 3)\n",
      "(10000, 32, 32, 3)\n"
     ]
    }
   ],
   "source": [
    "(X_dev, Y_dev), (X_test, Y_test) = tf.keras.datasets.cifar10.load_data()\n",
    "\n",
    "print(X_dev.shape)\n",
    "print(X_test.shape)"
   ]
  },
  {
   "cell_type": "markdown",
   "metadata": {
    "id": "R0KQWQTcbjUx"
   },
   "source": [
    "## 2. Explore your data "
   ]
  },
  {
   "cell_type": "code",
   "execution_count": 1,
   "metadata": {},
   "outputs": [],
   "source": [
    "# Use this space to explore you datasets\n",
    "# Create additional cells as you see fit"
   ]
  },
  {
   "cell_type": "markdown",
   "metadata": {},
   "source": [
    "## 3. Represent your labels using one hot encoding"
   ]
  },
  {
   "cell_type": "code",
   "execution_count": 2,
   "metadata": {},
   "outputs": [],
   "source": []
  },
  {
   "cell_type": "markdown",
   "metadata": {},
   "source": [
    "## 4. Data scaling and Data augmentation"
   ]
  },
  {
   "cell_type": "code",
   "execution_count": null,
   "metadata": {},
   "outputs": [],
   "source": [
    "# Experiment with different data scaling methods\n",
    "\n",
    "# Create your data augmentation object to improve training\n",
    "# set your batch size"
   ]
  },
  {
   "cell_type": "markdown",
   "metadata": {},
   "source": [
    "## Fully Connected Model\n",
    "\n",
    "## 5. Define your  model, cost function, optimizer, learning rate"
   ]
  },
  {
   "cell_type": "code",
   "execution_count": null,
   "metadata": {},
   "outputs": [],
   "source": [
    "# Define your model here. Include accuracy in the metrics list when you compile it\n",
    "# Experiment with different network architectures, learnig rates, dropout, etc.\n",
    "def my_model_fully_connected():\n",
    "    \n",
    "    return"
   ]
  },
  {
   "cell_type": "markdown",
   "metadata": {},
   "source": [
    "## 6. Define your callbacks (save your model, patience, etc.)"
   ]
  },
  {
   "cell_type": "code",
   "execution_count": null,
   "metadata": {},
   "outputs": [],
   "source": [
    "model_name_fcn = \"team_(team number)_FCN.h5\"\n",
    "\n",
    "# define your callbacks\n",
    "# remember that you need to save the weights of your best model!"
   ]
  },
  {
   "cell_type": "markdown",
   "metadata": {},
   "source": [
    "## 7. Train your model"
   ]
  },
  {
   "cell_type": "code",
   "execution_count": null,
   "metadata": {},
   "outputs": [],
   "source": [
    "# train your model - decide for how many epochs"
   ]
  },
  {
   "cell_type": "markdown",
   "metadata": {},
   "source": [
    "## 8. Test your model"
   ]
  },
  {
   "cell_type": "code",
   "execution_count": null,
   "metadata": {},
   "outputs": [],
   "source": [
    "model.load_weights(model_name_fcn)\n",
    "metrics = model.evaluate(X_test,Y_test_oh)\n",
    "\n",
    "Ypred = model.predict(X_test).argmax(axis = 1)\n",
    "wrong_indexes = np.where(Ypred != Y_test)[0]\n",
    "print(wrong_indexes.size)\n",
    "\n",
    "# Disaplying some samples from the development set\n",
    "sample_indexes = np.random.choice(np.arange(wrong_indexes.shape[0], dtype = int),size = 30, replace = False)\n",
    "plt.figure(figsize = (24,18))\n",
    "for (ii,jj) in enumerate(sample_indexes):\n",
    "    plt.subplot(5,6,ii+1)\n",
    "    plt.imshow(X_test[wrong_indexes[jj]], cmap = \"gray\")\n",
    "    plt.title(\"Label: %d, predicted: %d\" %(Y_test[wrong_indexes[jj]],Ypred[wrong_indexes[jj]]))\n",
    "plt.show()"
   ]
  },
  {
   "cell_type": "markdown",
   "metadata": {},
   "source": [
    "## Convolutional Model\n",
    "\n",
    "## 5. Define your  model, cost function, optimizer, learning rate"
   ]
  },
  {
   "cell_type": "code",
   "execution_count": null,
   "metadata": {},
   "outputs": [],
   "source": [
    "# Define your model here. Include accuracy in the metrics list when you compile it\n",
    "# Experiment with different network architectures, learnig rates, dropout, etc.\n",
    "def my_model_cnn():\n",
    "    \n",
    "    return"
   ]
  },
  {
   "cell_type": "markdown",
   "metadata": {},
   "source": [
    "## 6. Define your callbacks (save your model, patience, etc.)"
   ]
  },
  {
   "cell_type": "code",
   "execution_count": null,
   "metadata": {},
   "outputs": [],
   "source": [
    "model_name_cnn = \"team_(team number)_FCN.h5\"\n",
    "\n",
    "# define your callbacks\n",
    "# remember that you need to save the weights of your best model!"
   ]
  },
  {
   "cell_type": "markdown",
   "metadata": {},
   "source": [
    "## 7. Train your model"
   ]
  },
  {
   "cell_type": "code",
   "execution_count": null,
   "metadata": {},
   "outputs": [],
   "source": [
    "# train your model - decide for how many epochs"
   ]
  },
  {
   "cell_type": "markdown",
   "metadata": {},
   "source": [
    "## 8. Test your model"
   ]
  },
  {
   "cell_type": "code",
   "execution_count": null,
   "metadata": {},
   "outputs": [],
   "source": [
    "model.load_weights(model_name_cnn)\n",
    "metrics = model.evaluate(X_test,Y_test_oh)\n",
    "\n",
    "Ypred = model.predict(X_test).argmax(axis = 1)\n",
    "wrong_indexes = np.where(Ypred != Y_test)[0]\n",
    "print(wrong_indexes.size)\n",
    "\n",
    "# Disaplying some samples from the development set\n",
    "sample_indexes = np.random.choice(np.arange(wrong_indexes.shape[0], dtype = int),size = 30, replace = False)\n",
    "plt.figure(figsize = (24,18))\n",
    "for (ii,jj) in enumerate(sample_indexes):\n",
    "    plt.subplot(5,6,ii+1)\n",
    "    plt.imshow(X_test[wrong_indexes[jj]], cmap = \"gray\")\n",
    "    plt.title(\"Label: %d, predicted: %d\" %(Y_test[wrong_indexes[jj]],Ypred[wrong_indexes[jj]]))\n",
    "plt.show()"
   ]
  },
  {
   "cell_type": "markdown",
   "metadata": {},
   "source": [
    "##  Team members participtaion\n",
    "(include the description of what each team member did and the consensus score for each team member)\n",
    "\n",
    "- **Arya Stark** helped design the model and write the code for fully connected model (**score 3**)\n",
    "- **Luke Skywalker** helped design helped to implement the data augmentation module (**score 3**)\n",
    "- ..."
   ]
  }
 ],
 "metadata": {
  "colab": {
   "authorship_tag": "ABX9TyN5l+2dsbD7W90Fvfda30GE",
   "name": "assignment02.ipynb",
   "provenance": []
  },
  "kernelspec": {
   "display_name": "Python 3",
   "language": "python",
   "name": "python3"
  },
  "language_info": {
   "codemirror_mode": {
    "name": "ipython",
    "version": 3
   },
   "file_extension": ".py",
   "mimetype": "text/x-python",
   "name": "python",
   "nbconvert_exporter": "python",
   "pygments_lexer": "ipython3",
   "version": "3.8.5"
  }
 },
 "nbformat": 4,
 "nbformat_minor": 1
}
